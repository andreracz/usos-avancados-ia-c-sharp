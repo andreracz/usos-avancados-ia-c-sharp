{
 "cells": [
  {
   "cell_type": "code",
   "execution_count": 10,
   "metadata": {
    "dotnet_interactive": {
     "language": "csharp"
    },
    "polyglot_notebook": {
     "kernelName": "csharp"
    },
    "vscode": {
     "languageId": "polyglot-notebook"
    }
   },
   "outputs": [
    {
     "data": {
      "text/html": [
       "<div><div></div><div></div><div><strong>Installed Packages</strong><ul><li><span>Azure.AI.OpenAI, 2.0.0</span></li></ul></div></div>"
      ]
     },
     "metadata": {},
     "output_type": "display_data"
    }
   ],
   "source": [
    "// Load some helper functions, e.g. to load values from settings.json\n",
    "#!import config/Settings.cs\n",
    "\n",
    "// Import Azure OpenAI\n",
    "#r \"nuget: Azure.AI.OpenAI, 2.0.0\"\n",
    "using OpenAI.Chat;\n",
    "var (model, azureEndpoint, apiKey) = Settings.LoadFromFile();\n",
    "\n",
    "\n",
    "var endpoint = new Uri(azureEndpoint);\n",
    "var credentials = new System.ClientModel.ApiKeyCredential(apiKey);\n",
    "var azureClient = new Azure.AI.OpenAI.AzureOpenAIClient(endpoint, credentials);\n",
    "var chatClient = azureClient.GetChatClient(\"gpt-4o\");"
   ]
  },
  {
   "cell_type": "code",
   "execution_count": 25,
   "metadata": {
    "dotnet_interactive": {
     "language": "csharp"
    },
    "polyglot_notebook": {
     "kernelName": "csharp"
    },
    "vscode": {
     "languageId": "polyglot-notebook"
    }
   },
   "outputs": [],
   "source": [
    "var system = \n",
    "\"\"\" \n",
    "Você é um assistente virtual que ajuda as pessoas a encontrar um restaurante e fazer uma reserva.\n",
    "\"\"\";"
   ]
  },
  {
   "cell_type": "code",
   "execution_count": 26,
   "metadata": {
    "dotnet_interactive": {
     "language": "csharp"
    },
    "polyglot_notebook": {
     "kernelName": "csharp"
    },
    "vscode": {
     "languageId": "polyglot-notebook"
    }
   },
   "outputs": [],
   "source": [
    "var completionOptions = new OpenAI.Chat.ChatCompletionOptions\n",
    "{\n",
    "    MaxOutputTokenCount=400,\n",
    "    Temperature=0f,\n",
    "    FrequencyPenalty=0.0f,\n",
    "    PresencePenalty=0.0f,\n",
    "    TopP = 0.95f \n",
    "};"
   ]
  },
  {
   "cell_type": "code",
   "execution_count": 27,
   "metadata": {
    "dotnet_interactive": {
     "language": "csharp"
    },
    "polyglot_notebook": {
     "kernelName": "csharp"
    },
    "vscode": {
     "languageId": "polyglot-notebook"
    }
   },
   "outputs": [
    {
     "data": {
      "text/html": [
       "<table><thead><tr><th><i>index</i></th><th>value</th></tr></thead><tbody><tr><td>0</td><td><details class=\"dni-treeview\"><summary><span class=\"dni-code-hint\"><code>OpenAI.Chat.SystemChatMessage</code></span></summary><div><table><thead><tr></tr></thead><tbody><tr><td>ParticipantName</td><td><div class=\"dni-plaintext\"><pre>&lt;null&gt;</pre></div></td></tr><tr><td>Content</td><td><table><thead><tr><th><i>index</i></th><th>value</th></tr></thead><tbody><tr><td>0</td><td><details class=\"dni-treeview\"><summary><span class=\"dni-code-hint\"><code>OpenAI.Chat.ChatMessageContentPart</code></span></summary><div><table><thead><tr></tr></thead><tbody><tr><td>Kind</td><td><span>Text</span></td></tr><tr><td>Text</td><td><div class=\"dni-plaintext\"><pre>Voc&#234; &#233; um assistente virtual que ajuda as pessoas a encontrar um restaurante e fazer uma reserva.</pre></div></td></tr><tr><td>ImageUri</td><td><div class=\"dni-plaintext\"><pre>&lt;null&gt;</pre></div></td></tr><tr><td>ImageBytes</td><td><div class=\"dni-plaintext\"><pre>&lt;null&gt;</pre></div></td></tr><tr><td>ImageBytesMediaType</td><td><div class=\"dni-plaintext\"><pre>&lt;null&gt;</pre></div></td></tr><tr><td>ImageDetailLevel</td><td><div class=\"dni-plaintext\"><pre>&lt;null&gt;</pre></div></td></tr><tr><td>Refusal</td><td><div class=\"dni-plaintext\"><pre>&lt;null&gt;</pre></div></td></tr></tbody></table></div></details></td></tr></tbody></table></td></tr></tbody></table></div></details></td></tr></tbody></table><style>\r\n",
       ".dni-code-hint {\r\n",
       "    font-style: italic;\r\n",
       "    overflow: hidden;\r\n",
       "    white-space: nowrap;\r\n",
       "}\r\n",
       ".dni-treeview {\r\n",
       "    white-space: nowrap;\r\n",
       "}\r\n",
       ".dni-treeview td {\r\n",
       "    vertical-align: top;\r\n",
       "    text-align: start;\r\n",
       "}\r\n",
       "details.dni-treeview {\r\n",
       "    padding-left: 1em;\r\n",
       "}\r\n",
       "table td {\r\n",
       "    text-align: start;\r\n",
       "}\r\n",
       "table tr { \r\n",
       "    vertical-align: top; \r\n",
       "    margin: 0em 0px;\r\n",
       "}\r\n",
       "table tr td pre \r\n",
       "{ \r\n",
       "    vertical-align: top !important; \r\n",
       "    margin: 0em 0px !important;\r\n",
       "} \r\n",
       "table th {\r\n",
       "    text-align: start;\r\n",
       "}\r\n",
       "</style>"
      ]
     },
     "metadata": {},
     "output_type": "display_data"
    }
   ],
   "source": [
    "var messages = new List<OpenAI.Chat.ChatMessage>();\n",
    "\n",
    "messages.Add(new OpenAI.Chat.SystemChatMessage(system));\n",
    "\n",
    "messages"
   ]
  },
  {
   "cell_type": "code",
   "execution_count": 28,
   "metadata": {
    "dotnet_interactive": {
     "language": "csharp"
    },
    "polyglot_notebook": {
     "kernelName": "csharp"
    },
    "vscode": {
     "languageId": "polyglot-notebook"
    }
   },
   "outputs": [
    {
     "data": {
      "text/html": [
       "<details open=\"open\" class=\"dni-treeview\"><summary><span class=\"dni-code-hint\"><code>OpenAI.Chat.ChatCompletion</code></span></summary><div><table><thead><tr></tr></thead><tbody><tr><td>CreatedAt</td><td><span>2024-11-26 23:19:24Z</span></td></tr><tr><td>FinishReason</td><td><span>Stop</span></td></tr><tr><td>ContentTokenLogProbabilities</td><td><details class=\"dni-treeview\"><summary><span class=\"dni-code-hint\"><code>[  ]</code></span></summary><div><table><thead><tr></tr></thead><tbody><tr><td>IsUndefined</td><td><div class=\"dni-plaintext\"><pre>True</pre></div></td></tr><tr><td>Count</td><td><div class=\"dni-plaintext\"><pre>0</pre></div></td></tr><tr><td>IsReadOnly</td><td><div class=\"dni-plaintext\"><pre>False</pre></div></td></tr><tr><td><i>(values)</i></td><td><i>(empty)</i></td></tr></tbody></table></div></details></td></tr><tr><td>RefusalTokenLogProbabilities</td><td><details class=\"dni-treeview\"><summary><span class=\"dni-code-hint\"><code>[  ]</code></span></summary><div><table><thead><tr></tr></thead><tbody><tr><td>IsUndefined</td><td><div class=\"dni-plaintext\"><pre>True</pre></div></td></tr><tr><td>Count</td><td><div class=\"dni-plaintext\"><pre>0</pre></div></td></tr><tr><td>IsReadOnly</td><td><div class=\"dni-plaintext\"><pre>False</pre></div></td></tr><tr><td><i>(values)</i></td><td><i>(empty)</i></td></tr></tbody></table></div></details></td></tr><tr><td>Role</td><td><span>Assistant</span></td></tr><tr><td>Content</td><td><table><thead><tr><th><i>index</i></th><th>value</th></tr></thead><tbody><tr><td>0</td><td><details class=\"dni-treeview\"><summary><span class=\"dni-code-hint\"><code>OpenAI.Chat.ChatMessageContentPart</code></span></summary><div><table><thead><tr></tr></thead><tbody><tr><td>Kind</td><td><span>Text</span></td></tr><tr><td>Text</td><td><div class=\"dni-plaintext\"><pre>Ol&#225;! Como posso ajudar voc&#234; hoje? Est&#225; procurando um restaurante ou gostaria de fazer uma reserva?</pre></div></td></tr><tr><td>ImageUri</td><td><div class=\"dni-plaintext\"><pre>&lt;null&gt;</pre></div></td></tr><tr><td>ImageBytes</td><td><div class=\"dni-plaintext\"><pre>&lt;null&gt;</pre></div></td></tr><tr><td>ImageBytesMediaType</td><td><div class=\"dni-plaintext\"><pre>&lt;null&gt;</pre></div></td></tr><tr><td>ImageDetailLevel</td><td><div class=\"dni-plaintext\"><pre>&lt;null&gt;</pre></div></td></tr><tr><td>Refusal</td><td><div class=\"dni-plaintext\"><pre>&lt;null&gt;</pre></div></td></tr></tbody></table></div></details></td></tr></tbody></table></td></tr><tr><td>ToolCalls</td><td><details class=\"dni-treeview\"><summary><span class=\"dni-code-hint\"><code>[  ]</code></span></summary><div><table><thead><tr></tr></thead><tbody><tr><td>IsUndefined</td><td><div class=\"dni-plaintext\"><pre>True</pre></div></td></tr><tr><td>Count</td><td><div class=\"dni-plaintext\"><pre>0</pre></div></td></tr><tr><td>IsReadOnly</td><td><div class=\"dni-plaintext\"><pre>False</pre></div></td></tr><tr><td><i>(values)</i></td><td><i>(empty)</i></td></tr></tbody></table></div></details></td></tr><tr><td>Refusal</td><td><div class=\"dni-plaintext\"><pre>&lt;null&gt;</pre></div></td></tr><tr><td>FunctionCall</td><td><div class=\"dni-plaintext\"><pre>&lt;null&gt;</pre></div></td></tr><tr><td>Id</td><td><div class=\"dni-plaintext\"><pre>chatcmpl-AXz80smnMIB8cPN68tD0S4RuPnMcI</pre></div></td></tr><tr><td>Model</td><td><div class=\"dni-plaintext\"><pre>gpt-4o-2024-05-13</pre></div></td></tr><tr><td>SystemFingerprint</td><td><div class=\"dni-plaintext\"><pre>fp_04751d0b65</pre></div></td></tr><tr><td>Usage</td><td><details class=\"dni-treeview\"><summary><span class=\"dni-code-hint\"><code>OpenAI.Chat.ChatTokenUsage</code></span></summary><div><table><thead><tr></tr></thead><tbody><tr><td>OutputTokenCount</td><td><div class=\"dni-plaintext\"><pre>19</pre></div></td></tr><tr><td>InputTokenCount</td><td><div class=\"dni-plaintext\"><pre>31</pre></div></td></tr><tr><td>TotalTokenCount</td><td><div class=\"dni-plaintext\"><pre>50</pre></div></td></tr><tr><td>OutputTokenDetails</td><td><div class=\"dni-plaintext\"><pre>&lt;null&gt;</pre></div></td></tr></tbody></table></div></details></td></tr></tbody></table></div></details><style>\r\n",
       ".dni-code-hint {\r\n",
       "    font-style: italic;\r\n",
       "    overflow: hidden;\r\n",
       "    white-space: nowrap;\r\n",
       "}\r\n",
       ".dni-treeview {\r\n",
       "    white-space: nowrap;\r\n",
       "}\r\n",
       ".dni-treeview td {\r\n",
       "    vertical-align: top;\r\n",
       "    text-align: start;\r\n",
       "}\r\n",
       "details.dni-treeview {\r\n",
       "    padding-left: 1em;\r\n",
       "}\r\n",
       "table td {\r\n",
       "    text-align: start;\r\n",
       "}\r\n",
       "table tr { \r\n",
       "    vertical-align: top; \r\n",
       "    margin: 0em 0px;\r\n",
       "}\r\n",
       "table tr td pre \r\n",
       "{ \r\n",
       "    vertical-align: top !important; \r\n",
       "    margin: 0em 0px !important;\r\n",
       "} \r\n",
       "table th {\r\n",
       "    text-align: start;\r\n",
       "}\r\n",
       "</style>"
      ]
     },
     "metadata": {},
     "output_type": "display_data"
    }
   ],
   "source": [
    "messages.Add(new OpenAI.Chat.UserChatMessage(\"Olá\"));\n",
    "OpenAI.Chat.ChatCompletion response = chatClient.CompleteChat(messages, completionOptions);\n",
    "response"
   ]
  },
  {
   "cell_type": "code",
   "execution_count": 29,
   "metadata": {
    "dotnet_interactive": {
     "language": "csharp"
    },
    "polyglot_notebook": {
     "kernelName": "csharp"
    },
    "vscode": {
     "languageId": "polyglot-notebook"
    }
   },
   "outputs": [
    {
     "data": {
      "text/plain": [
       "Olá! Como posso ajudar você hoje? Está procurando um restaurante ou gostaria de fazer uma reserva?"
      ]
     },
     "metadata": {},
     "output_type": "display_data"
    }
   ],
   "source": [
    "messages.Add(new OpenAI.Chat.AssistantChatMessage(response));\n",
    "response.Content[0].Text\n"
   ]
  },
  {
   "cell_type": "code",
   "execution_count": 30,
   "metadata": {
    "dotnet_interactive": {
     "language": "csharp"
    },
    "polyglot_notebook": {
     "kernelName": "csharp"
    },
    "vscode": {
     "languageId": "polyglot-notebook"
    }
   },
   "outputs": [
    {
     "data": {
      "text/plain": [
       "Ótima escolha! Aqui estão algumas sugestões de restaurantes mexicanos em São Paulo:\n",
       "\n",
       "1. **La Mexicana**\n",
       "   - Endereço: Rua dos Três Irmãos, 268 - Vila Progredior, São Paulo - SP\n",
       "   - Descrição: Um ambiente acolhedor com pratos tradicionais mexicanos.\n",
       "\n",
       "2. **Si Señor**\n",
       "   - Endereço: Rua dos Três Irmãos, 319 - Vila Progredior, São Paulo - SP\n",
       "   - Descrição: Conhecido por suas fajitas e margaritas, oferece uma experiência autêntica.\n",
       "\n",
       "3. **Mexicaníssimo**\n",
       "   - Endereço: Rua Augusta, 2203 - Cerqueira César, São Paulo - SP\n",
       "   - Descrição: Um restaurante que traz o sabor do México com pratos típicos e um ambiente vibrante.\n",
       "\n",
       "4. **Hecho en Mexico**\n",
       "   - Endereço: Rua dos Pinheiros, 465 - Pinheiros, São Paulo - SP\n",
       "   - Descrição: Oferece uma variedade de tacos, burritos e outras delícias mexicanas.\n",
       "\n",
       "5. **La Central**\n",
       "   - Endereço: Avenida Ipiranga, 200 - República, São Paulo - SP\n",
       "   - Descrição: Localizado no Edifício Copan, é famoso por seus pratos autênticos e ambiente descontraído.\n",
       "\n",
       "Gostaria de mais informações sobre algum desses restaurantes ou deseja fazer uma reserva?"
      ]
     },
     "metadata": {},
     "output_type": "display_data"
    }
   ],
   "source": [
    "messages.Add(new OpenAI.Chat.UserChatMessage(\"Quero um restaurante mexicano em São Paulo\"));\n",
    "response = chatClient.CompleteChat(messages, completionOptions);\n",
    "messages.Add(new OpenAI.Chat.AssistantChatMessage(response));\n",
    "response.Content[0].Text"
   ]
  },
  {
   "cell_type": "code",
   "execution_count": 31,
   "metadata": {
    "dotnet_interactive": {
     "language": "csharp"
    },
    "polyglot_notebook": {
     "kernelName": "csharp"
    },
    "vscode": {
     "languageId": "polyglot-notebook"
    }
   },
   "outputs": [
    {
     "data": {
      "text/plain": [
       "Claro, vou verificar a disponibilidade para você. Um momento, por favor.\n",
       "\n",
       "...\n",
       "\n",
       "Infelizmente, como sou um assistente virtual, não posso fazer reservas diretamente. No entanto, posso orientá-lo sobre como fazer isso.\n",
       "\n",
       "Você pode fazer a reserva no Si Señor de várias maneiras:\n",
       "\n",
       "1. **Telefone**: Ligue diretamente para o restaurante. O número de telefone do Si Señor da Vila Progredior é (11) 3721-3657.\n",
       "\n",
       "2. **Site Oficial**: Acesse o site oficial do Si Señor e utilize a ferramenta de reservas online.\n",
       "\n",
       "3. **Aplicativos de Reservas**: Utilize aplicativos como OpenTable, TheFork ou Restorando, que permitem fazer reservas em diversos restaurantes.\n",
       "\n",
       "Se precisar de mais alguma coisa ou de ajuda com outra questão, estou à disposição!"
      ]
     },
     "metadata": {},
     "output_type": "display_data"
    }
   ],
   "source": [
    "messages.Add(new OpenAI.Chat.UserChatMessage(\"Sim, no Sí Señor, para 4 pessoas, amanhã as 20h00, em nome de André\"));\n",
    "response = chatClient.CompleteChat(messages, completionOptions);\n",
    "messages.Add(new OpenAI.Chat.AssistantChatMessage(response));\n",
    "response.Content[0].Text"
   ]
  }
 ],
 "metadata": {
  "kernelspec": {
   "display_name": ".NET (C#)",
   "language": "C#",
   "name": ".net-csharp"
  },
  "language_info": {
   "name": "python"
  },
  "orig_nbformat": 4,
  "polyglot_notebook": {
   "kernelInfo": {
    "defaultKernelName": "csharp",
    "items": [
     {
      "aliases": [],
      "name": "csharp"
     }
    ]
   }
  }
 },
 "nbformat": 4,
 "nbformat_minor": 2
}
