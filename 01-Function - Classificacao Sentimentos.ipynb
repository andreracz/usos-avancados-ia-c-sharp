{
 "cells": [
  {
   "cell_type": "code",
   "execution_count": null,
   "metadata": {
    "dotnet_interactive": {
     "language": "csharp"
    },
    "polyglot_notebook": {
     "kernelName": "csharp"
    },
    "vscode": {
     "languageId": "polyglot-notebook"
    }
   },
   "outputs": [],
   "source": [
    "#!import config/Settings.cs\n",
    "\n",
    "// Import Azure OpenAI\n",
    "#r \"nuget: Azure.AI.OpenAI, 2.0.0\"\n",
    "using OpenAI.Chat;\n",
    "var (model, azureEndpoint, apiKey) = Settings.LoadFromFile();\n",
    "\n",
    "\n",
    "var endpoint = new Uri(azureEndpoint);\n",
    "var credentials = new System.ClientModel.ApiKeyCredential(apiKey);\n",
    "var azureClient = new Azure.AI.OpenAI.AzureOpenAIClient(endpoint, credentials);\n",
    "var chatClient = azureClient.GetChatClient(\"gpt-4o\");"
   ]
  },
  {
   "cell_type": "code",
   "execution_count": null,
   "metadata": {
    "dotnet_interactive": {
     "language": "csharp"
    },
    "polyglot_notebook": {
     "kernelName": "csharp"
    },
    "vscode": {
     "languageId": "polyglot-notebook"
    }
   },
   "outputs": [],
   "source": [
    "var system = \n",
    "\"\"\" \n",
    "Você é um assitente para classificar os sentimentos de um texto.\n",
    "\"\"\";"
   ]
  },
  {
   "cell_type": "code",
   "execution_count": null,
   "metadata": {
    "dotnet_interactive": {
     "language": "csharp"
    },
    "polyglot_notebook": {
     "kernelName": "csharp"
    },
    "vscode": {
     "languageId": "polyglot-notebook"
    }
   },
   "outputs": [],
   "source": [
    "var tool = OpenAI.Chat.ChatTool.CreateFunctionTool(\n",
    "    functionName: \"reportSentiment\",\n",
    "    functionDescription: \"report the sentiment of the supplied text, and if it have sarcasm in it\",\n",
    "    functionParameters: BinaryData.FromObjectAsJson(\n",
    "            new\n",
    "            {\n",
    "                Type = \"object\",\n",
    "                Properties = new\n",
    "                {\n",
    "                    Sentiment = new\n",
    "                    {\n",
    "                        Type = \"string\",\n",
    "                        Description = \"The sentiment of the text (positive, negative, neutral)\",\n",
    "                        num = new[] { \"positive\", \"neutral\", \"negative\" },\n",
    "                    },\n",
    "                    Sarcasm = new\n",
    "                    {\n",
    "                        Type = \"boolean\",\n",
    "                        Description = \"If the text contains sarcasm\",\n",
    "                    }\n",
    "                },\n",
    "                Required = new[] { \"sentiment\", \"sarcasm\" },\n",
    "            },\n",
    "            new JsonSerializerOptions() { PropertyNamingPolicy = JsonNamingPolicy.CamelCase }\n",
    "            )\n",
    "    );\n",
    "\n"
   ]
  },
  {
   "cell_type": "code",
   "execution_count": null,
   "metadata": {
    "dotnet_interactive": {
     "language": "csharp"
    },
    "polyglot_notebook": {
     "kernelName": "csharp"
    },
    "vscode": {
     "languageId": "polyglot-notebook"
    }
   },
   "outputs": [],
   "source": [
    "OpenAI.Chat.ChatCompletionOptions completionOptions = new()\n",
    "{\n",
    "    MaxOutputTokenCount=400,\n",
    "    Temperature=0f,\n",
    "    FrequencyPenalty=0.0f,\n",
    "    PresencePenalty=0.0f,\n",
    "    TopP = 0.95f,\n",
    "    Tools = { tool }\n",
    "};\n",
    "\n"
   ]
  },
  {
   "cell_type": "code",
   "execution_count": null,
   "metadata": {
    "vscode": {
     "languageId": "polyglot-notebook"
    }
   },
   "outputs": [],
   "source": [
    "var messages = new List<OpenAI.Chat.ChatMessage>();\n",
    "\n",
    "messages.Add(new OpenAI.Chat.SystemChatMessage(system));\n"
   ]
  },
  {
   "cell_type": "code",
   "execution_count": null,
   "metadata": {
    "dotnet_interactive": {
     "language": "csharp"
    },
    "polyglot_notebook": {
     "kernelName": "csharp"
    },
    "vscode": {
     "languageId": "polyglot-notebook"
    }
   },
   "outputs": [],
   "source": [
    "messages.Add(new OpenAI.Chat.UserChatMessage(\"O restaurante é muito bom, mas a comida é ruim.\"));\n",
    "OpenAI.Chat.ChatCompletion response = chatClient.CompleteChat(messages, completionOptions);\n",
    "response\n"
   ]
  },
  {
   "cell_type": "code",
   "execution_count": null,
   "metadata": {
    "dotnet_interactive": {
     "language": "csharp"
    },
    "polyglot_notebook": {
     "kernelName": "csharp"
    },
    "vscode": {
     "languageId": "polyglot-notebook"
    }
   },
   "outputs": [],
   "source": [
    "messages.Remove(messages.Last());\n",
    "messages.Add(new OpenAI.Chat.UserChatMessage(\"O restaurante é tão chique que até as baratas usam gravata.\"));\n",
    "OpenAI.Chat.ChatCompletion response = chatClient.CompleteChat(messages, completionOptions);\n",
    "response\n"
   ]
  }
 ],
 "metadata": {
  "kernelspec": {
   "display_name": ".NET (C#)",
   "language": "C#",
   "name": ".net-csharp"
  },
  "language_info": {
   "name": "python"
  },
  "orig_nbformat": 4,
  "polyglot_notebook": {
   "kernelInfo": {
    "defaultKernelName": "csharp",
    "items": [
     {
      "aliases": [],
      "name": "csharp"
     }
    ]
   }
  }
 },
 "nbformat": 4,
 "nbformat_minor": 2
}
