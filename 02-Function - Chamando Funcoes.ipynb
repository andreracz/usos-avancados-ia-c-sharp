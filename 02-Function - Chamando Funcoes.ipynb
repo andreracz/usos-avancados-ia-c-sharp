{
 "cells": [
  {
   "cell_type": "code",
   "execution_count": null,
   "metadata": {
    "dotnet_interactive": {
     "language": "csharp"
    },
    "polyglot_notebook": {
     "kernelName": "csharp"
    },
    "vscode": {
     "languageId": "polyglot-notebook"
    }
   },
   "outputs": [],
   "source": [
    "#!import config/Settings.cs\n",
    "#!import banking/ContaCorrente.cs \n",
    "#!import banking/Boleto.cs \n",
    "#!import banking/BankFunctions.cs \n",
    "#!import toolcalling/ToolCalling.cs  \n",
    "\n",
    "// Import Azure OpenAI\n",
    "#r \"nuget: Azure.AI.OpenAI, 2.0.0\"\n",
    "using OpenAI.Chat;\n",
    "var (model, azureEndpoint, apiKey) = Settings.LoadFromFile();\n",
    "\n",
    "\n",
    "var endpoint = new Uri(azureEndpoint);\n",
    "var credentials = new System.ClientModel.ApiKeyCredential(apiKey);\n",
    "var azureClient = new Azure.AI.OpenAI.AzureOpenAIClient(endpoint, credentials);\n",
    "var chatClient = azureClient.GetChatClient(\"gpt-4o\");"
   ]
  },
  {
   "cell_type": "code",
   "execution_count": null,
   "metadata": {
    "dotnet_interactive": {
     "language": "csharp"
    },
    "polyglot_notebook": {
     "kernelName": "csharp"
    },
    "vscode": {
     "languageId": "polyglot-notebook"
    }
   },
   "outputs": [],
   "source": [
    "var system = \n",
    "\"\"\" \n",
    "Voce é um assistente bancário que ajuda um cliente a transacionar em sua conta. Seja solicito e educado.\n",
    "\"\"\";"
   ]
  },
  {
   "cell_type": "code",
   "execution_count": null,
   "metadata": {
    "dotnet_interactive": {
     "language": "csharp"
    },
    "polyglot_notebook": {
     "kernelName": "csharp"
    },
    "vscode": {
     "languageId": "polyglot-notebook"
    }
   },
   "outputs": [],
   "source": [
    "var messages = new List<OpenAI.Chat.ChatMessage>();\n",
    "\n",
    "messages.Add(new OpenAI.Chat.SystemChatMessage(system))"
   ]
  },
  {
   "cell_type": "code",
   "execution_count": null,
   "metadata": {
    "dotnet_interactive": {
     "language": "csharp"
    },
    "polyglot_notebook": {
     "kernelName": "csharp"
    },
    "vscode": {
     "languageId": "polyglot-notebook"
    }
   },
   "outputs": [],
   "source": [
    "ToolCalling caller = new ToolCalling();\n",
    "\n",
    "var contaCorrentPrincipal = new ContaCorrente(\"123\");\n",
    "contaCorrentPrincipal.Depositar(1000);\n",
    "\n",
    "Dictionary<string, ContaCorrente> contasCorrentes = new Dictionary<string, ContaCorrente>() {\n",
    "    { \"André\", new ContaCorrente(\"456\") },\n",
    "    { \"João\", new ContaCorrente(\"789\") }\n",
    "};\n",
    "\n",
    "\n",
    "Boleto[] boletos = { Boleto.Criar(\"1\", 450), Boleto.Criar(\"2\", 150) , Boleto.Criar(\"3\", 1500) };\n",
    "\n",
    "BankFunctions bf = new BankFunctions(contaCorrentPrincipal, boletos, contasCorrentes);\n",
    "bf.ToString()"
   ]
  },
  {
   "cell_type": "code",
   "execution_count": null,
   "metadata": {
    "dotnet_interactive": {
     "language": "csharp"
    },
    "polyglot_notebook": {
     "kernelName": "csharp"
    },
    "vscode": {
     "languageId": "polyglot-notebook"
    }
   },
   "outputs": [],
   "source": [
    "var tools = caller.GetDefinitionsFromObject(bf);\n",
    "OpenAI.Chat.ChatCompletionOptions completionOptions = new()\n",
    "{\n",
    "    MaxOutputTokenCount=400,\n",
    "    Temperature=0f,\n",
    "    FrequencyPenalty=0.0f,\n",
    "    PresencePenalty=0.0f,\n",
    "    TopP = 0.95f\n",
    "};\n",
    "\n",
    "foreach (var tool in tools)\n",
    "{\n",
    "    completionOptions.Tools.Add(tool);\n",
    "}\n"
   ]
  },
  {
   "cell_type": "code",
   "execution_count": null,
   "metadata": {
    "dotnet_interactive": {
     "language": "csharp"
    },
    "polyglot_notebook": {
     "kernelName": "csharp"
    },
    "vscode": {
     "languageId": "polyglot-notebook"
    }
   },
   "outputs": [],
   "source": [
    "messages.Add(new OpenAI.Chat.UserChatMessage(\"Pague todos os boletos da minha conta que não estouram o saldo e transfira 100 para o João. Me diga o saldo.\"));\n",
    "\n"
   ]
  },
  {
   "cell_type": "code",
   "execution_count": null,
   "metadata": {
    "dotnet_interactive": {
     "language": "csharp"
    },
    "polyglot_notebook": {
     "kernelName": "csharp"
    },
    "vscode": {
     "languageId": "polyglot-notebook"
    }
   },
   "outputs": [],
   "source": [
    "do {\n",
    "    OpenAI.Chat.ChatCompletion response = chatClient.CompleteChat(messages, completionOptions);\n",
    "    // Include the message in the conversation history\n",
    "    messages.Add(new AssistantChatMessage(response));\n",
    "    if (response.FinishReason == OpenAI.Chat.ChatFinishReason.ToolCalls)\n",
    "    {\n",
    "        foreach (ChatToolCall toolCall in response.ToolCalls) {\n",
    "            var functionReturn = caller.ExecuteTool(toolCall, bf);\n",
    "            messages.Add(new ToolChatMessage(toolCall.Id, functionReturn));\n",
    "        }\n",
    "    } else {\n",
    "        Console.WriteLine(response.Content[0].Text);\n",
    "        break;\n",
    "    }\n",
    "\n",
    "}while(true);\n",
    "\n"
   ]
  },
  {
   "cell_type": "code",
   "execution_count": null,
   "metadata": {
    "dotnet_interactive": {
     "language": "csharp"
    },
    "polyglot_notebook": {
     "kernelName": "csharp"
    },
    "vscode": {
     "languageId": "polyglot-notebook"
    }
   },
   "outputs": [],
   "source": [
    "bf.ToString()"
   ]
  }
 ],
 "metadata": {
  "kernelspec": {
   "display_name": ".NET (C#)",
   "language": "C#",
   "name": ".net-csharp"
  },
  "language_info": {
   "name": "python"
  },
  "orig_nbformat": 4,
  "polyglot_notebook": {
   "kernelInfo": {
    "defaultKernelName": "csharp",
    "items": [
     {
      "aliases": [],
      "name": "csharp"
     }
    ]
   }
  }
 },
 "nbformat": 4,
 "nbformat_minor": 2
}
