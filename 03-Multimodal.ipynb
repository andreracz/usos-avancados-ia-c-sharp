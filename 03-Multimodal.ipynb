{
 "cells": [
  {
   "cell_type": "code",
   "execution_count": null,
   "metadata": {
    "dotnet_interactive": {
     "language": "csharp"
    },
    "polyglot_notebook": {
     "kernelName": "csharp"
    },
    "vscode": {
     "languageId": "polyglot-notebook"
    }
   },
   "outputs": [],
   "source": [
    "#!import config/Settings.cs\n",
    "\n",
    "// Import Azure OpenAI\n",
    "#r \"nuget: Azure.AI.OpenAI, 2.0.0\"\n",
    "using OpenAI.Chat;\n",
    "var (model, azureEndpoint, apiKey) = Settings.LoadFromFile();\n",
    "\n",
    "\n",
    "var endpoint = new Uri(azureEndpoint);\n",
    "var credentials = new System.ClientModel.ApiKeyCredential(apiKey);\n",
    "var azureClient = new Azure.AI.OpenAI.AzureOpenAIClient(endpoint, credentials);\n",
    "var chatClient = azureClient.GetChatClient(\"gpt-4o\");"
   ]
  },
  {
   "cell_type": "code",
   "execution_count": null,
   "metadata": {
    "dotnet_interactive": {
     "language": "csharp"
    },
    "polyglot_notebook": {
     "kernelName": "csharp"
    },
    "vscode": {
     "languageId": "polyglot-notebook"
    }
   },
   "outputs": [],
   "source": [
    "var system = \n",
    "\"\"\" \n",
    "Você é um assistente virtual. Você está aqui para ajudar as pessoas com suas dúvidas e perguntas.\n",
    "\"\"\";"
   ]
  },
  {
   "cell_type": "code",
   "execution_count": null,
   "metadata": {
    "dotnet_interactive": {
     "language": "csharp"
    },
    "polyglot_notebook": {
     "kernelName": "csharp"
    },
    "vscode": {
     "languageId": "polyglot-notebook"
    }
   },
   "outputs": [],
   "source": [
    "var messages = new List<OpenAI.Chat.ChatMessage>();\n",
    "\n",
    "messages.Add(new OpenAI.Chat.SystemChatMessage(system))"
   ]
  },
  {
   "cell_type": "code",
   "execution_count": null,
   "metadata": {
    "vscode": {
     "languageId": "polyglot-notebook"
    }
   },
   "outputs": [],
   "source": [
    "messages.Add(new OpenAI.Chat.UserChatMessage(\n",
    "    OpenAI.Chat.ChatMessageContentPart.CreateTextPart(\"Com base na imagem, sugira outros locais para visita na mesma cidade\"),\n",
    "    OpenAI.Chat.ChatMessageContentPart.CreateImagePart(new Uri(\"https://jpimg.com.br/uploads/2023/05/turismo-no-rio-de-janeiro-veja-o-que-visitar-na-cidade-maravilhosa.jpg\"))\n",
    "));"
   ]
  },
  {
   "cell_type": "code",
   "execution_count": null,
   "metadata": {
    "vscode": {
     "languageId": "polyglot-notebook"
    }
   },
   "outputs": [],
   "source": [
    "OpenAI.Chat.ChatCompletion response = chatClient.CompleteChat(messages);\n",
    "response.Content[0].Text"
   ]
  },
  {
   "cell_type": "code",
   "execution_count": null,
   "metadata": {
    "vscode": {
     "languageId": "polyglot-notebook"
    }
   },
   "outputs": [],
   "source": [
    "messages.Remove(messages.Last());\n",
    "messages.Add(new OpenAI.Chat.UserChatMessage(\n",
    "    OpenAI.Chat.ChatMessageContentPart.CreateTextPart(\"Com base na imagem, quantos carboidratos tem?\"),\n",
    "    OpenAI.Chat.ChatMessageContentPart.CreateImagePart(new Uri(\"https://www.saborbrasil.it/wp-content/uploads/2021/06/pag.181_01_feijoada-1024x768.jpg\"))\n",
    "));\n",
    "\n",
    "OpenAI.Chat.ChatCompletion response = chatClient.CompleteChat(messages);\n",
    "response.Content[0].Text"
   ]
  }
 ],
 "metadata": {
  "kernelspec": {
   "display_name": ".NET (C#)",
   "language": "C#",
   "name": ".net-csharp"
  },
  "language_info": {
   "name": "python"
  },
  "orig_nbformat": 4,
  "polyglot_notebook": {
   "kernelInfo": {
    "defaultKernelName": "csharp",
    "items": [
     {
      "aliases": [],
      "name": "csharp"
     }
    ]
   }
  }
 },
 "nbformat": 4,
 "nbformat_minor": 2
}
